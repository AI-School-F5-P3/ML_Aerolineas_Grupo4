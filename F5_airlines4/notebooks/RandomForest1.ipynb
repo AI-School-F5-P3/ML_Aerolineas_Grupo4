{
 "cells": [
  {
   "cell_type": "code",
   "execution_count": null,
   "metadata": {},
   "outputs": [],
   "source": [
    "import pandas as pd\n",
    "import numpy as np\n",
    "import matplotlib.pyplot as plt\n",
    "import seaborn as sns\n",
    "from sklearn.preprocessing import StandardScaler, LabelEncoder\n",
    "from sklearn.model_selection import train_test_split\n",
    "from sklearn.ensemble import RandomForestClassifier\n",
    "from sklearn.metrics import classification_report, confusion_matrix, accuracy_score, roc_auc_score, roc_curve\n",
    "import joblib\n",
    "\n",
    "#Cargar el dataset\n",
    "df = pd.read_csv('/Users/jyajuber/Factoriaf5/Proyecto4/F5_airlines4/data/airline_passenger_satisfaction.csv')\n",
    "df.shape"
   ]
  },
  {
   "cell_type": "code",
   "execution_count": null,
   "metadata": {},
   "outputs": [],
   "source": [
    "df.head(50)"
   ]
  },
  {
   "cell_type": "code",
   "execution_count": null,
   "metadata": {},
   "outputs": [],
   "source": [
    "\n",
    "#1. Eliminar columnas irrelevantes\n",
    "df = df.drop(columns=['Unnamed: 0', 'id'])\n",
    "# Preprocesamiento de datos\n",
    "df = df.dropna()  # Eliminar filas con valores faltantes\n",
    "print(df.columns)"
   ]
  },
  {
   "cell_type": "code",
   "execution_count": null,
   "metadata": {},
   "outputs": [],
   "source": [
    "# 2. Manejo de valores faltantes\n",
    "# Para la columna 'Arrival Delay in Minutes', se podría imputar con la media o eliminar los registros con valores faltantes\n",
    "df['Arrival Delay in Minutes'] = df['Arrival Delay in Minutes'].fillna(df['Arrival Delay in Minutes'].mean())\n",
    "\n",
    "# Codificación de variables categóricas\n",
    "le = LabelEncoder()\n",
    "categorical_columns = df.select_dtypes(include=['object']).columns\n",
    "for col in categorical_columns:\n",
    "    df[col] = le.fit_transform(df[col])\n",
    "\n",
    "# 4. Separar características (X) y la variable objetivo (y)\n",
    "X = df.drop('satisfaction', axis=1)\n",
    "y = df['satisfaction']\n",
    "\n",
    "# 5. Dividir el conjunto de datos en entrenamiento y prueba\n",
    "X_train, X_test, y_train, y_test = train_test_split(X, y, test_size=0.2, random_state=42)\n",
    "\n",
    "# Escalado de características\n",
    "scaler = StandardScaler()\n",
    "X_train = scaler.fit_transform(X_train)\n",
    "X_test = scaler.transform(X_test)\n",
    "\n",
    "# Lista de diferentes números de árboles para probar\n",
    "n_estimators_list = [10, 50, 100, 200, 500, 1000]\n",
    "\n",
    "# Inicializar listas para almacenar los resultados\n",
    "accuracy_list = []\n",
    "roc_auc_list = []\n",
    "confusion_matrices = []\n",
    "feature_importances_list = []\n",
    "\n",
    "# Bucle para entrenar y evaluar el modelo con diferentes números de árboles\n",
    "for n_estimators in n_estimators_list:\n",
    "    print(f\"\\nEntrenando RandomForest con {n_estimators} árboles...\")\n",
    "    \n",
    "    # Entrenamiento del modelo\n",
    "    model = RandomForestClassifier(n_estimators=n_estimators, random_state=42)\n",
    "    model.fit(X_train, y_train)\n",
    "\n",
    "# Predicciones\n",
    "    y_pred = model.predict(X_test)\n",
    "    \n",
    "# Evaluación del modelo\n",
    "    accuracy = accuracy_score(y_test, y_pred)\n",
    "    roc_auc = roc_auc_score(y_test, model.predict_proba(X_test)[:, 1])\n",
    "    \n",
    "    accuracy_list.append(accuracy)\n",
    "    roc_auc_list.append(roc_auc)\n",
    "    \n",
    "    # Almacenar la matriz de confusión\n",
    "    confusion_matrices.append(confusion_matrix(y_test, y_pred))\n",
    "\n",
    "    # Almacenar la importancia de características\n",
    "    feature_importances_list.append(model.feature_importances_)\n",
    "\n",
    "    print(f\"Accuracy: {accuracy:.4f}\")\n",
    "    print(f\"ROC AUC Score: {roc_auc:.4f}\")\n",
    "    print(classification_report(y_test, y_pred))\n",
    "    \n",
    "# # Convertir la lista de importancias a un DataFrame\n",
    "feature_importances_df = pd.DataFrame(feature_importances_list, columns=X.columns)\n",
    "\n",
    "# Verificar que no hay NaN en el DataFrame antes de calcular la media\n",
    "print(feature_importances_df.isna().sum())  # Esto debe mostrar ceros si todo está bien\n",
    "\n",
    "# Calcular la importancia media de cada característica\n",
    "mean_importances = feature_importances_df.mean().sort_values(ascending=False)\n",
    "\n",
    "print(\"\\nImportancia Media de Características:\")\n",
    "print(mean_importances)\n",
    "\n"
   ]
  },
  {
   "cell_type": "code",
   "execution_count": null,
   "metadata": {},
   "outputs": [],
   "source": [
    "# Gráfico de Accuracy vs n_estimators\n",
    "plt.figure(figsize=(12, 6))\n",
    "plt.plot(n_estimators_list, accuracy_list, marker='o', linestyle='-', color='b', label='Accuracy')\n",
    "plt.title('Accuracy vs Número de Árboles (n_estimators)')\n",
    "plt.xlabel('Número de Árboles (n_estimators)')\n",
    "plt.ylabel('Accuracy')\n",
    "plt.grid(True)\n",
    "plt.legend()\n",
    "plt.show()\n",
    "\n",
    "# Gráfico de ROC AUC vs n_estimators\n",
    "plt.figure(figsize=(12, 6))\n",
    "plt.plot(n_estimators_list, roc_auc_list, marker='o', linestyle='-', color='g', label='ROC AUC Score')\n",
    "plt.title('ROC AUC vs Número de Árboles (n_estimators)')\n",
    "plt.xlabel('Número de Árboles (n_estimators)')\n",
    "plt.ylabel('ROC AUC Score')\n",
    "plt.grid(True)\n",
    "plt.legend()\n",
    "plt.show()\n",
    "\n",
    "# Graficar la importancia media de las características\n",
    "plt.figure(figsize=(12, 8))\n",
    "sns.barplot(x=mean_importances.values, y=mean_importances.index)\n",
    "plt.title('Importancia Media de las Características')\n",
    "plt.xlabel('Importancia')\n",
    "plt.ylabel('Características')\n",
    "plt.show()"
   ]
  },
  {
   "cell_type": "code",
   "execution_count": null,
   "metadata": {},
   "outputs": [],
   "source": [
    "# Visualización de la Matriz de Confusión para el último modelo entrenado\n",
    "plt.figure(figsize=(8, 6))\n",
    "sns.heatmap(confusion_matrices[-1], annot=True, fmt='d', cmap='Blues')\n",
    "plt.xlabel('Predicted Label')\n",
    "plt.ylabel('True Label')\n",
    "plt.title(f'Matriz de Confusión (n_estimators={n_estimators_list[-1]})')\n",
    "plt.show()"
   ]
  },
  {
   "cell_type": "code",
   "execution_count": null,
   "metadata": {},
   "outputs": [],
   "source": [
    "# Guardar el modelo entrenado para uso en la aplicación\n",
    "joblib.dump(scaler, 'models/scaler_RandomForest1.pkl')\n",
    "joblib.dump(model, 'models/RandomForest_model1.pkl')"
   ]
  }
 ],
 "metadata": {
  "kernelspec": {
   "display_name": "Python 3",
   "language": "python",
   "name": "python3"
  },
  "language_info": {
   "codemirror_mode": {
    "name": "ipython",
    "version": 3
   },
   "file_extension": ".py",
   "mimetype": "text/x-python",
   "name": "python",
   "nbconvert_exporter": "python",
   "pygments_lexer": "ipython3",
   "version": "3.12.4"
  }
 },
 "nbformat": 4,
 "nbformat_minor": 2
}
